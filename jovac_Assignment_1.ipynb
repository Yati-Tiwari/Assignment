{
 "cells": [
  {
   "cell_type": "markdown",
   "id": "b24b9f95",
   "metadata": {},
   "source": [
    "Jovac_Assignment_First"
   ]
  },
  {
   "cell_type": "markdown",
   "id": "9aa57220",
   "metadata": {},
   "source": [
    "Question 1: Prime Number Checker using While Loops?"
   ]
  },
  {
   "cell_type": "code",
   "execution_count": null,
   "id": "7e590dcb",
   "metadata": {},
   "outputs": [],
   "source": [
    "num = 100\n",
    "n = 2\n",
    "while n <= num:\n",
    "    i = 2\n",
    "    while i * i <= n:\n",
    "        if n % i == 0:\n",
    "            print(n, '-->', 'Not Prime')\n",
    "            break\n",
    "        i += 1\n",
    "    else:\n",
    "        print(n, '-->', 'Prime')\n",
    "    n += 1"
   ]
  },
  {
   "cell_type": "markdown",
   "id": "a81ea2a7",
   "metadata": {},
   "source": [
    "Question 2:\n",
    "Replace all negative numbers in numpy array with 0?\n"
   ]
  },
  {
   "cell_type": "code",
   "execution_count": null,
   "id": "674b2343",
   "metadata": {},
   "outputs": [],
   "source": [
    "import numpy as np\n",
    "arr=np.array([1, -2, 3, -4, 5, -6])\n",
    "# Replace negative values with 0\n",
    "arr[arr < 0] = 0\n",
    "print(arr)"
   ]
  },
  {
   "cell_type": "markdown",
   "id": "089a1e1b",
   "metadata": {},
   "source": [
    "Question 3:\n",
    "WAP to Make A Custom exception?"
   ]
  },
  {
   "cell_type": "code",
   "execution_count": 2,
   "id": "70478c42",
   "metadata": {},
   "outputs": [
    {
     "name": "stdout",
     "output_type": "stream",
     "text": [
      "Caught custom exception: Number cannot be negative!\n"
     ]
    }
   ],
   "source": [
    "class MyCustomException(Exception):\n",
    "    def __init__(self, message):\n",
    "        super().__init__(message)\n",
    "        \n",
    "def check_number(num):\n",
    "    if num < 0:\n",
    "        raise MyCustomException(\"Number cannot be negative!\")\n",
    "    else:\n",
    "        print(f\"Number is valid: {num}\")\n",
    "\n",
    "try:\n",
    "    check_number(-5)\n",
    "except MyCustomException as e:\n",
    "    print(\"Caught custom exception:\", e)\n"
   ]
  },
  {
   "cell_type": "markdown",
   "id": "a3f9321a",
   "metadata": {},
   "source": [
    "Question 4:\n",
    "WAP to Make a 2-D array and read and write it in a csv format?"
   ]
  },
  {
   "cell_type": "code",
   "execution_count": null,
   "id": "e5ce07fb",
   "metadata": {},
   "outputs": [
    {
     "name": "stdout",
     "output_type": "stream",
     "text": [
      "[1, 2, 3]\n",
      "[4, 5, 6]\n",
      "[7, 8, 9]\n"
     ]
    }
   ],
   "source": [
    "import csv\n",
    "array = [\n",
    "    [1, 2, 3],\n",
    "    [4, 5, 6],\n",
    "    [7, 8, 9]\n",
    "]\n",
    "# write\n",
    "with open(\"matrix.csv\", mode=\"w\", newline=\"\") as file:\n",
    "    writer = csv.writer(file)\n",
    "    writer.writerows(array)\n",
    "\n",
    "#  read\n",
    "array = []\n",
    "with open(\"matrix.csv\", mode=\"r\") as file:\n",
    "    reader = csv.reader(file)\n",
    "    for row in reader:\n",
    "        array.append([int(val) for val in row])\n",
    "\n",
    "for row in array:\n",
    "    print(row)\n"
   ]
  }
 ],
 "metadata": {
  "kernelspec": {
   "display_name": "Python 3",
   "language": "python",
   "name": "python3"
  },
  "language_info": {
   "codemirror_mode": {
    "name": "ipython",
    "version": 3
   },
   "file_extension": ".py",
   "mimetype": "text/x-python",
   "name": "python",
   "nbconvert_exporter": "python",
   "pygments_lexer": "ipython3",
   "version": "3.12.1"
  }
 },
 "nbformat": 4,
 "nbformat_minor": 5
}
